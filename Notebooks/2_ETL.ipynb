{
 "cells": [
  {
   "cell_type": "markdown",
   "metadata": {},
   "source": [
    "## ETL and uploading dataset to CLoud Object Storage"
   ]
  },
  {
   "cell_type": "code",
   "execution_count": 1,
   "metadata": {},
   "outputs": [],
   "source": [
    "credentials = {\n",
    "  \"apikey\": \"73YAQZQO--3wod7sl2ZpPFYeysBnPLVwZw6TQyuppX0G\",\n",
    "  \"cos_hmac_keys\": {\n",
    "    \"access_key_id\": \"1cccf16be5b544f0b90c5d3f0b19a54b\",\n",
    "    \"secret_access_key\": \"2799948cf77f2b09105f190e6270d847452357ef725212f0\"\n",
    "  },\n",
    "  \"endpoints\": \"https://control.cloud-object-storage.cloud.ibm.com/v2/endpoints\",\n",
    "  \"iam_apikey_description\": \"Auto-generated for key 1cccf16b-e5b5-44f0-b90c-5d3f0b19a54b\",\n",
    "  \"iam_apikey_name\": \"Advanced Data Science Capstone Project\",\n",
    "  \"iam_role_crn\": \"crn:v1:bluemix:public:iam::::serviceRole:Manager\",\n",
    "  \"iam_serviceid_crn\": \"crn:v1:bluemix:public:iam-identity::a/e7224927971842388e252d653244c884::serviceid:ServiceId-193d6d2a-b3c5-41d5-9afb-1fa8ae24f741\",\n",
    "  \"resource_instance_id\": \"crn:v1:bluemix:public:cloud-object-storage:global:a/e7224927971842388e252d653244c884:7359bf47-1cf0-4356-9f16-1b1668165e7f::\"\n",
    "}"
   ]
  },
  {
   "cell_type": "code",
   "execution_count": 2,
   "metadata": {},
   "outputs": [],
   "source": [
    "ep = \"https://s3.jp-tok.cloud-object-storage.appdomain.cloud\"    # endpoint obtained from the corresponding bucket that we want to use\n",
    "bn = \"advanced-data-science-capstone-project\""
   ]
  },
  {
   "cell_type": "code",
   "execution_count": 3,
   "metadata": {},
   "outputs": [],
   "source": [
    "from ibm_botocore.client import Config, ClientError\n",
    "import ibm_boto3 as boto3"
   ]
  },
  {
   "cell_type": "code",
   "execution_count": 4,
   "metadata": {},
   "outputs": [],
   "source": [
    "resource = boto3.resource(\n",
    "    's3',\n",
    "    aws_access_key_id = credentials['cos_hmac_keys']['access_key_id'],\n",
    "    aws_secret_access_key = credentials['cos_hmac_keys']['secret_access_key'],\n",
    "    endpoint_url = ep\n",
    ")\n",
    "\n",
    "\n",
    "client = boto3.client(\n",
    "    's3',\n",
    "    aws_access_key_id = credentials['cos_hmac_keys']['access_key_id'],\n",
    "    aws_secret_access_key = credentials['cos_hmac_keys']['secret_access_key'],\n",
    "    endpoint_url = ep\n",
    ")"
   ]
  },
  {
   "cell_type": "code",
   "execution_count": 5,
   "metadata": {},
   "outputs": [
    {
     "name": "stdout",
     "output_type": "stream",
     "text": [
      "File successfully uploaded to IBM Cloud Object Storage\n"
     ]
    }
   ],
   "source": [
    "client.upload_file(Filename='Dataset/nyc_jobPostings.csv', Bucket=bn, Key='nyc_jobPostings_data.csv')\n",
    "print('File successfully uploaded to IBM Cloud Object Storage')"
   ]
  }
 ],
 "metadata": {
  "kernelspec": {
   "display_name": "Python 3",
   "language": "python",
   "name": "python3"
  },
  "language_info": {
   "codemirror_mode": {
    "name": "ipython",
    "version": 3
   },
   "file_extension": ".py",
   "mimetype": "text/x-python",
   "name": "python",
   "nbconvert_exporter": "python",
   "pygments_lexer": "ipython3",
   "version": "3.7.6"
  }
 },
 "nbformat": 4,
 "nbformat_minor": 4
}
